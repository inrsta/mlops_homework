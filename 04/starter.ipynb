{
 "cells": [
  {
   "cell_type": "code",
   "execution_count": 1,
   "id": "2c51efaa",
   "metadata": {},
   "outputs": [
    {
     "name": "stdout",
     "output_type": "stream",
     "text": [
      "scikit-learn==1.2.2\n"
     ]
    }
   ],
   "source": [
    "!pip freeze | grep scikit-learn"
   ]
  },
  {
   "cell_type": "code",
   "execution_count": 9,
   "id": "0ef880a0",
   "metadata": {},
   "outputs": [],
   "source": [
    "import pickle\n",
    "import pandas as pd\n",
    "import numpy"
   ]
  },
  {
   "cell_type": "code",
   "execution_count": 3,
   "id": "7836ccfd",
   "metadata": {},
   "outputs": [],
   "source": [
    "with open('model.bin', 'rb') as f_in:\n",
    "    dv, model = pickle.load(f_in)"
   ]
  },
  {
   "cell_type": "code",
   "execution_count": 4,
   "id": "41c08294",
   "metadata": {},
   "outputs": [],
   "source": [
    "categorical = ['PULocationID', 'DOLocationID']\n",
    "\n",
    "def read_data(filename):\n",
    "    df = pd.read_parquet(filename)\n",
    "    \n",
    "    df['duration'] = df.tpep_dropoff_datetime - df.tpep_pickup_datetime\n",
    "    df['duration'] = df.duration.dt.total_seconds() / 60\n",
    "\n",
    "    df = df[(df.duration >= 1) & (df.duration <= 60)].copy()\n",
    "\n",
    "    df[categorical] = df[categorical].fillna(-1).astype('int').astype('str')\n",
    "    \n",
    "    return df"
   ]
  },
  {
   "cell_type": "code",
   "execution_count": 5,
   "id": "4854399a",
   "metadata": {},
   "outputs": [],
   "source": [
    "df = read_data('https://d37ci6vzurychx.cloudfront.net/trip-data/yellow_tripdata_2022-02.parquet')"
   ]
  },
  {
   "cell_type": "code",
   "execution_count": 6,
   "id": "669fda0a",
   "metadata": {},
   "outputs": [],
   "source": [
    "dicts = df[categorical].to_dict(orient='records')\n",
    "X_val = dv.transform(dicts)\n",
    "y_pred = model.predict(X_val)"
   ]
  },
  {
   "cell_type": "code",
   "execution_count": 10,
   "id": "26396bea",
   "metadata": {},
   "outputs": [],
   "source": [
    "df['predicted_duration'] = y_pred"
   ]
  },
  {
   "cell_type": "code",
   "execution_count": 12,
   "id": "b739cda5",
   "metadata": {},
   "outputs": [
    {
     "data": {
      "text/html": [
       "<div>\n",
       "<style scoped>\n",
       "    .dataframe tbody tr th:only-of-type {\n",
       "        vertical-align: middle;\n",
       "    }\n",
       "\n",
       "    .dataframe tbody tr th {\n",
       "        vertical-align: top;\n",
       "    }\n",
       "\n",
       "    .dataframe thead th {\n",
       "        text-align: right;\n",
       "    }\n",
       "</style>\n",
       "<table border=\"1\" class=\"dataframe\">\n",
       "  <thead>\n",
       "    <tr style=\"text-align: right;\">\n",
       "      <th></th>\n",
       "      <th>VendorID</th>\n",
       "      <th>passenger_count</th>\n",
       "      <th>trip_distance</th>\n",
       "      <th>RatecodeID</th>\n",
       "      <th>payment_type</th>\n",
       "      <th>fare_amount</th>\n",
       "      <th>extra</th>\n",
       "      <th>mta_tax</th>\n",
       "      <th>tip_amount</th>\n",
       "      <th>tolls_amount</th>\n",
       "      <th>improvement_surcharge</th>\n",
       "      <th>total_amount</th>\n",
       "      <th>congestion_surcharge</th>\n",
       "      <th>airport_fee</th>\n",
       "      <th>duration</th>\n",
       "      <th>predicted_duration</th>\n",
       "    </tr>\n",
       "  </thead>\n",
       "  <tbody>\n",
       "    <tr>\n",
       "      <th>count</th>\n",
       "      <td>2.918187e+06</td>\n",
       "      <td>2.822437e+06</td>\n",
       "      <td>2.918187e+06</td>\n",
       "      <td>2.822437e+06</td>\n",
       "      <td>2.918187e+06</td>\n",
       "      <td>2.918187e+06</td>\n",
       "      <td>2.918187e+06</td>\n",
       "      <td>2.918187e+06</td>\n",
       "      <td>2.918187e+06</td>\n",
       "      <td>2.918187e+06</td>\n",
       "      <td>2.918187e+06</td>\n",
       "      <td>2.918187e+06</td>\n",
       "      <td>2.822437e+06</td>\n",
       "      <td>2.822437e+06</td>\n",
       "      <td>2.918187e+06</td>\n",
       "      <td>2.918187e+06</td>\n",
       "    </tr>\n",
       "    <tr>\n",
       "      <th>mean</th>\n",
       "      <td>1.702265e+00</td>\n",
       "      <td>1.391660e+00</td>\n",
       "      <td>5.747751e+00</td>\n",
       "      <td>1.350555e+00</td>\n",
       "      <td>1.168508e+00</td>\n",
       "      <td>1.268422e+01</td>\n",
       "      <td>1.021348e+00</td>\n",
       "      <td>4.942594e-01</td>\n",
       "      <td>2.463432e+00</td>\n",
       "      <td>3.529895e-01</td>\n",
       "      <td>2.975203e-01</td>\n",
       "      <td>1.900824e+01</td>\n",
       "      <td>2.325968e+00</td>\n",
       "      <td>6.890632e-02</td>\n",
       "      <td>1.379372e+01</td>\n",
       "      <td>1.251342e+01</td>\n",
       "    </tr>\n",
       "    <tr>\n",
       "      <th>std</th>\n",
       "      <td>4.693961e-01</td>\n",
       "      <td>9.841901e-01</td>\n",
       "      <td>6.432019e+02</td>\n",
       "      <td>5.562606e+00</td>\n",
       "      <td>4.829941e-01</td>\n",
       "      <td>1.064428e+01</td>\n",
       "      <td>1.224293e+00</td>\n",
       "      <td>6.986270e-02</td>\n",
       "      <td>2.596137e+00</td>\n",
       "      <td>1.592588e+00</td>\n",
       "      <td>3.836547e-02</td>\n",
       "      <td>1.346242e+01</td>\n",
       "      <td>6.728310e-01</td>\n",
       "      <td>2.865852e-01</td>\n",
       "      <td>9.643098e+00</td>\n",
       "      <td>5.281404e+00</td>\n",
       "    </tr>\n",
       "    <tr>\n",
       "      <th>min</th>\n",
       "      <td>1.000000e+00</td>\n",
       "      <td>0.000000e+00</td>\n",
       "      <td>0.000000e+00</td>\n",
       "      <td>1.000000e+00</td>\n",
       "      <td>0.000000e+00</td>\n",
       "      <td>-6.000000e+02</td>\n",
       "      <td>-4.500000e+00</td>\n",
       "      <td>-5.000000e-01</td>\n",
       "      <td>-1.880000e+02</td>\n",
       "      <td>-2.300000e+01</td>\n",
       "      <td>-3.000000e-01</td>\n",
       "      <td>-6.003000e+02</td>\n",
       "      <td>-2.500000e+00</td>\n",
       "      <td>-1.250000e+00</td>\n",
       "      <td>1.000000e+00</td>\n",
       "      <td>-7.485578e+00</td>\n",
       "    </tr>\n",
       "    <tr>\n",
       "      <th>25%</th>\n",
       "      <td>1.000000e+00</td>\n",
       "      <td>1.000000e+00</td>\n",
       "      <td>1.100000e+00</td>\n",
       "      <td>1.000000e+00</td>\n",
       "      <td>1.000000e+00</td>\n",
       "      <td>6.500000e+00</td>\n",
       "      <td>0.000000e+00</td>\n",
       "      <td>5.000000e-01</td>\n",
       "      <td>1.000000e+00</td>\n",
       "      <td>0.000000e+00</td>\n",
       "      <td>3.000000e-01</td>\n",
       "      <td>1.180000e+01</td>\n",
       "      <td>2.500000e+00</td>\n",
       "      <td>0.000000e+00</td>\n",
       "      <td>7.033333e+00</td>\n",
       "      <td>9.945231e+00</td>\n",
       "    </tr>\n",
       "    <tr>\n",
       "      <th>50%</th>\n",
       "      <td>2.000000e+00</td>\n",
       "      <td>1.000000e+00</td>\n",
       "      <td>1.800000e+00</td>\n",
       "      <td>1.000000e+00</td>\n",
       "      <td>1.000000e+00</td>\n",
       "      <td>9.500000e+00</td>\n",
       "      <td>5.000000e-01</td>\n",
       "      <td>5.000000e-01</td>\n",
       "      <td>2.060000e+00</td>\n",
       "      <td>0.000000e+00</td>\n",
       "      <td>3.000000e-01</td>\n",
       "      <td>1.518000e+01</td>\n",
       "      <td>2.500000e+00</td>\n",
       "      <td>0.000000e+00</td>\n",
       "      <td>1.126667e+01</td>\n",
       "      <td>1.066465e+01</td>\n",
       "    </tr>\n",
       "    <tr>\n",
       "      <th>75%</th>\n",
       "      <td>2.000000e+00</td>\n",
       "      <td>1.000000e+00</td>\n",
       "      <td>3.150000e+00</td>\n",
       "      <td>1.000000e+00</td>\n",
       "      <td>1.000000e+00</td>\n",
       "      <td>1.450000e+01</td>\n",
       "      <td>2.500000e+00</td>\n",
       "      <td>5.000000e-01</td>\n",
       "      <td>3.090000e+00</td>\n",
       "      <td>0.000000e+00</td>\n",
       "      <td>3.000000e-01</td>\n",
       "      <td>2.075000e+01</td>\n",
       "      <td>2.500000e+00</td>\n",
       "      <td>0.000000e+00</td>\n",
       "      <td>1.766667e+01</td>\n",
       "      <td>1.213280e+01</td>\n",
       "    </tr>\n",
       "    <tr>\n",
       "      <th>max</th>\n",
       "      <td>6.000000e+00</td>\n",
       "      <td>9.000000e+00</td>\n",
       "      <td>3.487985e+05</td>\n",
       "      <td>9.900000e+01</td>\n",
       "      <td>5.000000e+00</td>\n",
       "      <td>6.500000e+02</td>\n",
       "      <td>1.030000e+01</td>\n",
       "      <td>3.300000e+00</td>\n",
       "      <td>3.808000e+02</td>\n",
       "      <td>9.500000e+01</td>\n",
       "      <td>3.000000e-01</td>\n",
       "      <td>6.503000e+02</td>\n",
       "      <td>2.750000e+00</td>\n",
       "      <td>1.250000e+00</td>\n",
       "      <td>6.000000e+01</td>\n",
       "      <td>8.013667e+01</td>\n",
       "    </tr>\n",
       "  </tbody>\n",
       "</table>\n",
       "</div>"
      ],
      "text/plain": [
       "           VendorID  passenger_count  trip_distance    RatecodeID  \\\n",
       "count  2.918187e+06     2.822437e+06   2.918187e+06  2.822437e+06   \n",
       "mean   1.702265e+00     1.391660e+00   5.747751e+00  1.350555e+00   \n",
       "std    4.693961e-01     9.841901e-01   6.432019e+02  5.562606e+00   \n",
       "min    1.000000e+00     0.000000e+00   0.000000e+00  1.000000e+00   \n",
       "25%    1.000000e+00     1.000000e+00   1.100000e+00  1.000000e+00   \n",
       "50%    2.000000e+00     1.000000e+00   1.800000e+00  1.000000e+00   \n",
       "75%    2.000000e+00     1.000000e+00   3.150000e+00  1.000000e+00   \n",
       "max    6.000000e+00     9.000000e+00   3.487985e+05  9.900000e+01   \n",
       "\n",
       "       payment_type   fare_amount         extra       mta_tax    tip_amount  \\\n",
       "count  2.918187e+06  2.918187e+06  2.918187e+06  2.918187e+06  2.918187e+06   \n",
       "mean   1.168508e+00  1.268422e+01  1.021348e+00  4.942594e-01  2.463432e+00   \n",
       "std    4.829941e-01  1.064428e+01  1.224293e+00  6.986270e-02  2.596137e+00   \n",
       "min    0.000000e+00 -6.000000e+02 -4.500000e+00 -5.000000e-01 -1.880000e+02   \n",
       "25%    1.000000e+00  6.500000e+00  0.000000e+00  5.000000e-01  1.000000e+00   \n",
       "50%    1.000000e+00  9.500000e+00  5.000000e-01  5.000000e-01  2.060000e+00   \n",
       "75%    1.000000e+00  1.450000e+01  2.500000e+00  5.000000e-01  3.090000e+00   \n",
       "max    5.000000e+00  6.500000e+02  1.030000e+01  3.300000e+00  3.808000e+02   \n",
       "\n",
       "       tolls_amount  improvement_surcharge  total_amount  \\\n",
       "count  2.918187e+06           2.918187e+06  2.918187e+06   \n",
       "mean   3.529895e-01           2.975203e-01  1.900824e+01   \n",
       "std    1.592588e+00           3.836547e-02  1.346242e+01   \n",
       "min   -2.300000e+01          -3.000000e-01 -6.003000e+02   \n",
       "25%    0.000000e+00           3.000000e-01  1.180000e+01   \n",
       "50%    0.000000e+00           3.000000e-01  1.518000e+01   \n",
       "75%    0.000000e+00           3.000000e-01  2.075000e+01   \n",
       "max    9.500000e+01           3.000000e-01  6.503000e+02   \n",
       "\n",
       "       congestion_surcharge   airport_fee      duration  predicted_duration  \n",
       "count          2.822437e+06  2.822437e+06  2.918187e+06        2.918187e+06  \n",
       "mean           2.325968e+00  6.890632e-02  1.379372e+01        1.251342e+01  \n",
       "std            6.728310e-01  2.865852e-01  9.643098e+00        5.281404e+00  \n",
       "min           -2.500000e+00 -1.250000e+00  1.000000e+00       -7.485578e+00  \n",
       "25%            2.500000e+00  0.000000e+00  7.033333e+00        9.945231e+00  \n",
       "50%            2.500000e+00  0.000000e+00  1.126667e+01        1.066465e+01  \n",
       "75%            2.500000e+00  0.000000e+00  1.766667e+01        1.213280e+01  \n",
       "max            2.750000e+00  1.250000e+00  6.000000e+01        8.013667e+01  "
      ]
     },
     "execution_count": 12,
     "metadata": {},
     "output_type": "execute_result"
    }
   ],
   "source": [
    "df.describe()"
   ]
  },
  {
   "cell_type": "code",
   "execution_count": 13,
   "id": "11af1252",
   "metadata": {},
   "outputs": [],
   "source": [
    "month = 2\n",
    "year = 2022\n",
    "df['ride_id'] = f'{year:04d}/{month:02d}_' + df.index.astype('str')"
   ]
  },
  {
   "cell_type": "code",
   "execution_count": 15,
   "id": "ed7630ac",
   "metadata": {},
   "outputs": [],
   "source": [
    "result_df = df[['ride_id', 'predicted_duration']]"
   ]
  },
  {
   "cell_type": "code",
   "execution_count": 17,
   "id": "9c770cf6",
   "metadata": {},
   "outputs": [],
   "source": [
    "output_file = f\"results_{year:04d}-{month:02d}\"\n",
    "result_df.to_parquet(\n",
    "    output_file,\n",
    "    engine='pyarrow',\n",
    "    compression=None,\n",
    "    index=False\n",
    ")"
   ]
  },
  {
   "cell_type": "code",
   "execution_count": 18,
   "id": "c0d3b37d",
   "metadata": {},
   "outputs": [
    {
     "name": "stdout",
     "output_type": "stream",
     "text": [
      "total 58M\n",
      "-rw-rw-r-- 1 inris inris  1M Jun 21 20:37 Dockerfile\n",
      "-rw-rw-r-- 1 inris inris  1M Jun 27 13:07 Pipfile\n",
      "-rw-r--r-- 1 inris inris  1M Jun 27 13:05 Pipfile.lock\n",
      "-rw-rw-r-- 1 inris inris  1M Jun 21 20:37 model.bin\n",
      "-rw-rw-r-- 1 inris inris 58M Jun 27 13:27 results_2022-02\n",
      "-rw-rw-r-- 1 inris inris  1M Jun 27 13:28 starter.ipynb\n"
     ]
    }
   ],
   "source": [
    "!ls -l --block-size=M"
   ]
  },
  {
   "cell_type": "code",
   "execution_count": 20,
   "id": "646c2a97",
   "metadata": {},
   "outputs": [
    {
     "name": "stdout",
     "output_type": "stream",
     "text": [
      "[NbConvertApp] Converting notebook starter.ipynb to script\n",
      "[NbConvertApp] Writing 1459 bytes to starter.py\n"
     ]
    }
   ],
   "source": [
    "!jupyter nbconvert --to script starter.ipynb"
   ]
  },
  {
   "cell_type": "code",
   "execution_count": null,
   "id": "3d4ab4d9",
   "metadata": {},
   "outputs": [],
   "source": []
  }
 ],
 "metadata": {
  "kernelspec": {
   "display_name": "Python 3 (ipykernel)",
   "language": "python",
   "name": "python3"
  },
  "language_info": {
   "codemirror_mode": {
    "name": "ipython",
    "version": 3
   },
   "file_extension": ".py",
   "mimetype": "text/x-python",
   "name": "python",
   "nbconvert_exporter": "python",
   "pygments_lexer": "ipython3",
   "version": "3.9.16"
  }
 },
 "nbformat": 4,
 "nbformat_minor": 5
}
